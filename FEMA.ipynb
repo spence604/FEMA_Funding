{
 "cells": [
  {
   "cell_type": "code",
   "execution_count": 3,
   "id": "9f7c2c24-4935-4ab7-a806-ad8d2fd06764",
   "metadata": {},
   "outputs": [
    {
     "name": "stdout",
     "output_type": "stream",
     "text": [
      "Columns in the CSV file:\n",
      "['femaDeclarationString', 'disasterNumber', 'state', 'declarationType', 'declarationDate', 'fyDeclared', 'incidentType', 'declarationTitle', 'ihProgramDeclared', 'iaProgramDeclared', 'paProgramDeclared', 'hmProgramDeclared', 'incidentBeginDate', 'incidentEndDate', 'disasterCloseoutDate', 'tribalRequest', 'fipsStateCode', 'fipsCountyCode', 'placeCode', 'designatedArea', 'declarationRequestNumber', 'lastIAFilingDate', 'incidentId', 'region', 'designatedIncidentTypes', 'lastRefresh', 'hash', 'id']\n",
      "\n",
      "Filtered data saved to: /Users/Spence604/Documents/Data Analyst stuff/Projectcs/Appalachia /Filtered_DisasterDeclarations.csv\n",
      "Columns kept: ['disasterNumber', 'state', 'incidentType', 'incidentBeginDate', 'incidentEndDate', 'ihProgramDeclared', 'paProgramDeclared']\n",
      "Number of records: 9530\n"
     ]
    }
   ],
   "source": [
    "import pandas as pd\n",
    "\n",
    "# Define the file path\n",
    "file_path = 'INSERT PATH'\n",
    "\n",
    "# Define the states we want to keep\n",
    "target_states = ['WV', 'KY', 'OH', 'VA', 'PA']\n",
    "\n",
    "# Read the CSV file with low_memory=False to handle mixed types\n",
    "df = pd.read_csv(file_path, low_memory=False)\n",
    "\n",
    "# First, let's inspect the actual column names\n",
    "print(\"Columns in the CSV file:\")\n",
    "print(df.columns.tolist())\n",
    "\n",
    "# Try common alternatives for state column\n",
    "state_column = None\n",
    "for possible_name in ['stateCode', 'state', 'State', 'STATE', 'state_code']:\n",
    "    if possible_name in df.columns:\n",
    "        state_column = possible_name\n",
    "        break\n",
    "\n",
    "if state_column is None:\n",
    "    raise ValueError(\"Could not find state column in the CSV file\")\n",
    "\n",
    "# Filter for only the target states\n",
    "df = df[df[state_column].isin(target_states)]\n",
    "\n",
    "# Define column mapping (new name : old name)\n",
    "# Updated based on the columns that likely exist\n",
    "column_mapping = {\n",
    "    'disasterNumber': 'disasterNumber',\n",
    "    'state': state_column,\n",
    "    'incidentType': 'incidentType',\n",
    "    'incidentBeginDate': 'incidentBeginDate',\n",
    "    'incidentEndDate': 'incidentEndDate',\n",
    "    'ihProgramDeclared': 'ihProgramDeclared',\n",
    "    'paProgramDeclared': 'paProgramDeclared'\n",
    "}\n",
    "\n",
    "# Select and rename columns - only those that exist\n",
    "available_columns = [col for col in column_mapping.values() if col in df.columns]\n",
    "filtered_df = df[available_columns]\n",
    "\n",
    "# Fix the typo in column name if needed\n",
    "if 'incidentEndDate' not in filtered_df.columns and 'incidentEndDate' in column_mapping.values():\n",
    "    if 'incidentEndDate' in df.columns:\n",
    "        filtered_df['incidentEndDate'] = df['incidentEndDate']\n",
    "\n",
    "# Rename the columns\n",
    "filtered_df = filtered_df.rename(columns={v: k for k, v in column_mapping.items() if v in filtered_df.columns})\n",
    "\n",
    "# Save the filtered dataframe to a new CSV file\n",
    "output_path = 'INSERT PATH'\n",
    "filtered_df.to_csv(output_path, index=False)\n",
    "\n",
    "print(\"\\nFiltered data saved to:\", output_path)\n",
    "print(\"Columns kept:\", list(filtered_df.columns))\n",
    "print(\"Number of records:\", len(filtered_df))"
   ]
  },
  {
   "cell_type": "code",
   "execution_count": null,
   "id": "65f4e02c-371b-4bd5-8f69-b3f0d19eca45",
   "metadata": {},
   "outputs": [],
   "source": []
  }
 ],
 "metadata": {
  "kernelspec": {
   "display_name": "Python [conda env:base] *",
   "language": "python",
   "name": "conda-base-py"
  },
  "language_info": {
   "codemirror_mode": {
    "name": "ipython",
    "version": 3
   },
   "file_extension": ".py",
   "mimetype": "text/x-python",
   "name": "python",
   "nbconvert_exporter": "python",
   "pygments_lexer": "ipython3",
   "version": "3.12.4"
  }
 },
 "nbformat": 4,
 "nbformat_minor": 5
}
